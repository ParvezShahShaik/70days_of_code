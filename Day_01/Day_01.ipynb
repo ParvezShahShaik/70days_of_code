{
 "cells": [
  {
   "cell_type": "markdown",
   "id": "c9d9b2ff",
   "metadata": {},
   "source": [
    "## Print function in python"
   ]
  },
  {
   "cell_type": "code",
   "execution_count": 1,
   "id": "fe1f5063",
   "metadata": {},
   "outputs": [
    {
     "name": "stdout",
     "output_type": "stream",
     "text": [
      "This is python print funtion\n"
     ]
    }
   ],
   "source": [
    "print(\"This is python print funtion\");"
   ]
  },
  {
   "cell_type": "code",
   "execution_count": 9,
   "id": "07730691",
   "metadata": {},
   "outputs": [
    {
     "name": "stdout",
     "output_type": "stream",
     "text": [
      "Day 1- Python Print Statement\n",
      "The function is declared like this:\n",
      "print('what to print')\n"
     ]
    }
   ],
   "source": [
    "print(\"Day 1- Python Print Statement\");\n",
    "print(\"The function is declared like this:\");\n",
    "print(\"print('what to print')\");"
   ]
  },
  {
   "cell_type": "markdown",
   "id": "3b93bec9",
   "metadata": {},
   "source": [
    "## Printing multiple strings with single print function( )"
   ]
  },
  {
   "cell_type": "code",
   "execution_count": 12,
   "id": "6b3b0592",
   "metadata": {},
   "outputs": [
    {
     "name": "stdout",
     "output_type": "stream",
     "text": [
      "Hello world!\n",
      "Hello world!\n",
      "Hello World!\n"
     ]
    }
   ],
   "source": [
    " print(\"Hello world!\\nHello world!\\nHello World!\")"
   ]
  },
  {
   "cell_type": "markdown",
   "id": "d1f616ef",
   "metadata": {},
   "source": [
    "## String concatenation "
   ]
  },
  {
   "cell_type": "code",
   "execution_count": 13,
   "id": "e25d7938",
   "metadata": {},
   "outputs": [
    {
     "name": "stdout",
     "output_type": "stream",
     "text": [
      "Hello Angela\n"
     ]
    }
   ],
   "source": [
    "print(\"Hello\"+\" Angela\")"
   ]
  },
  {
   "cell_type": "markdown",
   "id": "bbdacd3f",
   "metadata": {},
   "source": [
    "## Input function in python\n",
    "### input function give a prompt for the user.\n",
    "### syntax: input(\"A prompt for the user\")"
   ]
  },
  {
   "cell_type": "code",
   "execution_count": 17,
   "id": "fc60c6fe",
   "metadata": {},
   "outputs": [
    {
     "name": "stdout",
     "output_type": "stream",
     "text": [
      "what is your name? parvez\n",
      "Hello parvez\n"
     ]
    }
   ],
   "source": [
    "print(\"Hello \" + input(\"what is your name? \"))"
   ]
  },
  {
   "cell_type": "markdown",
   "id": "6d9945e7",
   "metadata": {},
   "source": [
    "## Program to print No. of charecters in a name"
   ]
  },
  {
   "cell_type": "code",
   "execution_count": 25,
   "id": "6f734879",
   "metadata": {},
   "outputs": [
    {
     "name": "stdout",
     "output_type": "stream",
     "text": [
      "what is your name?raj\n",
      "3\n"
     ]
    }
   ],
   "source": [
    "print(len(input(\"what is your name?\")))"
   ]
  },
  {
   "cell_type": "markdown",
   "id": "455a552f",
   "metadata": {},
   "source": [
    "## Variables"
   ]
  },
  {
   "cell_type": "code",
   "execution_count": 19,
   "id": "dad110d0",
   "metadata": {},
   "outputs": [
    {
     "name": "stdout",
     "output_type": "stream",
     "text": [
      "what is your name?parvez\n",
      "6\n"
     ]
    }
   ],
   "source": [
    "name= input(\"what is your name?\")\n",
    "length= len(name)\n",
    "print(length);"
   ]
  },
  {
   "cell_type": "code",
   "execution_count": null,
   "id": "7d4eea3b",
   "metadata": {},
   "outputs": [],
   "source": []
  }
 ],
 "metadata": {
  "kernelspec": {
   "display_name": "Python 3 (ipykernel)",
   "language": "python",
   "name": "python3"
  },
  "language_info": {
   "codemirror_mode": {
    "name": "ipython",
    "version": 3
   },
   "file_extension": ".py",
   "mimetype": "text/x-python",
   "name": "python",
   "nbconvert_exporter": "python",
   "pygments_lexer": "ipython3",
   "version": "3.11.5"
  }
 },
 "nbformat": 4,
 "nbformat_minor": 5
}
