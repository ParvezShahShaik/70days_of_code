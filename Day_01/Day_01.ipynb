{
 "cells": [
  {
   "cell_type": "markdown",
   "id": "a7aaa4f2",
   "metadata": {},
   "source": [
    "## Print function in python"
   ]
  },
  {
   "cell_type": "code",
   "execution_count": 1,
   "id": "a90ad9ab",
   "metadata": {},
   "outputs": [
    {
     "name": "stdout",
     "output_type": "stream",
     "text": [
      "This is python print funtion\n"
     ]
    }
   ],
   "source": [
    "print(\"This is python print funtion\");"
   ]
  },
  {
   "cell_type": "code",
   "execution_count": 9,
   "id": "435e53e4",
   "metadata": {},
   "outputs": [
    {
     "name": "stdout",
     "output_type": "stream",
     "text": [
      "Day 1- Python Print Statement\n",
      "The function is declared like this:\n",
      "print('what to print')\n"
     ]
    }
   ],
   "source": [
    "print(\"Day 1- Python Print Statement\");\n",
    "print(\"The function is declared like this:\");\n",
    "print(\"print('what to print')\");"
   ]
  },
  {
   "cell_type": "markdown",
   "id": "ec10d65e",
   "metadata": {},
   "source": [
    "## Printing multiple strings with single print function( )"
   ]
  },
  {
   "cell_type": "code",
   "execution_count": 12,
   "id": "62f54b7f",
   "metadata": {},
   "outputs": [
    {
     "name": "stdout",
     "output_type": "stream",
     "text": [
      "Hello world!\n",
      "Hello world!\n",
      "Hello World!\n"
     ]
    }
   ],
   "source": [
    " print(\"Hello world!\\nHello world!\\nHello World!\")"
   ]
  },
  {
   "cell_type": "markdown",
   "id": "14e5a624",
   "metadata": {},
   "source": [
    "## String concatenation "
   ]
  },
  {
   "cell_type": "code",
   "execution_count": 13,
   "id": "bce4478d",
   "metadata": {},
   "outputs": [
    {
     "name": "stdout",
     "output_type": "stream",
     "text": [
      "Hello Angela\n"
     ]
    }
   ],
   "source": [
    "print(\"Hello\"+\" Angela\")"
   ]
  },
  {
   "cell_type": "markdown",
   "id": "d866bef6",
   "metadata": {},
   "source": [
    "## Input function in python\n",
    "### input function give a prompt for the user.\n",
    "### syntax: input(\"A prompt for the user\")"
   ]
  },
  {
   "cell_type": "code",
   "execution_count": 15,
   "id": "d5c34fdf",
   "metadata": {},
   "outputs": [
    {
     "name": "stdout",
     "output_type": "stream",
     "text": [
      "what is your name?Parvez\n",
      "Hello Parvez\n"
     ]
    }
   ],
   "source": [
    "print(\"Hello \" + input(\"what is your name?\"))"
   ]
  },
  {
   "cell_type": "code",
   "execution_count": null,
   "id": "2f59af81",
   "metadata": {},
   "outputs": [],
   "source": []
  }
 ],
 "metadata": {
  "kernelspec": {
   "display_name": "Python 3 (ipykernel)",
   "language": "python",
   "name": "python3"
  },
  "language_info": {
   "codemirror_mode": {
    "name": "ipython",
    "version": 3
   },
   "file_extension": ".py",
   "mimetype": "text/x-python",
   "name": "python",
   "nbconvert_exporter": "python",
   "pygments_lexer": "ipython3",
   "version": "3.11.5"
  }
 },
 "nbformat": 4,
 "nbformat_minor": 5
}
